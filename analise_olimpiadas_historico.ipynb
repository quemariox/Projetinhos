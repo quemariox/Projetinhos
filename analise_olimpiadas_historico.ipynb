{
  "nbformat": 4,
  "nbformat_minor": 0,
  "metadata": {
    "colab": {
      "private_outputs": true,
      "provenance": [],
      "authorship_tag": "ABX9TyN59Nju/KPzoDKqSoUYnQmo",
      "include_colab_link": true
    },
    "kernelspec": {
      "name": "python3",
      "display_name": "Python 3"
    },
    "language_info": {
      "name": "python"
    }
  },
  "cells": [
    {
      "cell_type": "markdown",
      "metadata": {
        "id": "view-in-github",
        "colab_type": "text"
      },
      "source": [
        "<a href=\"https://colab.research.google.com/github/quemariox/Projetinhos/blob/main/analise_olimpiadas_historico.ipynb\" target=\"_parent\"><img src=\"https://colab.research.google.com/assets/colab-badge.svg\" alt=\"Open In Colab\"/></a>"
      ]
    },
    {
      "cell_type": "code",
      "execution_count": null,
      "metadata": {
        "id": "PyTwqOtD_XAq"
      },
      "outputs": [],
      "source": [
        "conteudo = []\n",
        "with open(file='summer.csv',mode='r', encoding='utf-8') as arquivo:\n",
        "  linha = arquivo.readline()\n",
        "  print(linha)\n",
        "  while linha:\n",
        "    conteudo.append(linha)\n",
        "    linha = arquivo.readline()\n",
        "  arquivo.close()\n",
        "\n",
        "paises = []\n",
        "for linha in conteudo:\n",
        "  pais = linha.split(',')\n",
        "  paises.append(pais[0])\n",
        "\n",
        "print(paises)"
      ]
    }
  ]
}