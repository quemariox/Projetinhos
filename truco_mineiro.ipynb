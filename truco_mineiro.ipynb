{
  "nbformat": 4,
  "nbformat_minor": 0,
  "metadata": {
    "colab": {
      "private_outputs": true,
      "provenance": [],
      "authorship_tag": "ABX9TyNc1lvMDRr1CKndbr0NF1Nb",
      "include_colab_link": true
    },
    "kernelspec": {
      "name": "python3",
      "display_name": "Python 3"
    },
    "language_info": {
      "name": "python"
    }
  },
  "cells": [
    {
      "cell_type": "markdown",
      "metadata": {
        "id": "view-in-github",
        "colab_type": "text"
      },
      "source": [
        "<a href=\"https://colab.research.google.com/github/quemariox/Projetinhos/blob/main/truco_mineiro.ipynb\" target=\"_parent\"><img src=\"https://colab.research.google.com/assets/colab-badge.svg\" alt=\"Open In Colab\"/></a>"
      ]
    },
    {
      "cell_type": "markdown",
      "source": [
        "### Criação do baralho"
      ],
      "metadata": {
        "id": "uajeQeouPusI"
      }
    },
    {
      "cell_type": "code",
      "source": [
        "import random"
      ],
      "metadata": {
        "id": "Z8GaIipRzlZx"
      },
      "execution_count": null,
      "outputs": []
    },
    {
      "cell_type": "code",
      "source": [
        "def create_deck(shuffle = True):\n",
        "    \"\"\" Quando chamada, create_deck() retorna uma lista 'playing_cards' que é baralho de truco mineiro com 40 cartas no estado embaralhado (shuffle = True)\"\"\"\n",
        "\n",
        "    #1.material base\n",
        "    pips_power = {'4':4,'5':5,'6':6,'7':7,'J':8,'Q':9,'K':10,'A':11,'2':12,'3':13}\n",
        "    emoji_suits = {'Hearts': \"\\u2665\", 'Diamonds': \"\\u2666\", 'Spades': \"\\u2660\", 'Clubs': \"\\u2663\"}\n",
        "    playing_cards = []\n",
        "\n",
        "    #2.criando o baralho\n",
        "    for suit in emoji_suits.values():\n",
        "        for pip in pips_power:\n",
        "            name = pip + suit\n",
        "            playing_cards.append([pips_power[pip], name])\n",
        "\n",
        "    #3.alterando poderes das manilhas\n",
        "    for card in playing_cards:\n",
        "        if card[1] == '7♦': card[0] = 14\n",
        "        if card[1] == 'A♠': card[0] = 15\n",
        "        if card[1] == '7♥': card[0] = 16\n",
        "        if card[1] == '4♣': card[0] = 17\n",
        "\n",
        "    #4.embaralhando\n",
        "    if shuffle == True: random.shuffle(playing_cards)\n",
        "    else: playing_cards.sort()\n",
        "\n",
        "    return playing_cards[::-1]\n",
        "\n",
        "deck = create_deck()\n",
        "print(deck,'\\n',len(deck),'\\n',type(deck))"
      ],
      "metadata": {
        "id": "xuOpep78u6gK"
      },
      "execution_count": null,
      "outputs": []
    },
    {
      "cell_type": "markdown",
      "source": [
        "### Distribuição de cartas"
      ],
      "metadata": {
        "id": "IgnnHqVYPzs2"
      }
    },
    {
      "cell_type": "code",
      "source": [
        "def dist_cards(n_players = 4, deck = None):\n",
        "    \"\"\"Cria um dicionário 'hands' {'mão':[cartas]} para um dado número 'n_players' de jogadores\"\"\"\n",
        "    #1.baralho,mão de um jogador, mãos de todos os jogadores\n",
        "    deck = create_deck()\n",
        "    hand = []\n",
        "    hands = {}\n",
        "\n",
        "    #2.criando o dicionário de mãos\n",
        "    for i in range(n_players):\n",
        "        hand = []\n",
        "        #criando cada mão\n",
        "        for j in range(3):\n",
        "            hand.append(deck.pop())\n",
        "        player_name = f'mão{i+1}'\n",
        "        hands[player_name] = hand\n",
        "\n",
        "    return hands\n",
        "\n",
        "hands = dist_cards()\n",
        "print(hands,'\\n',len(hands),'\\n',type(hands))"
      ],
      "metadata": {
        "id": "VLIDh0GS2-3r"
      },
      "execution_count": null,
      "outputs": []
    },
    {
      "cell_type": "markdown",
      "source": [
        "### Set de estratégias"
      ],
      "metadata": {
        "id": "cGYjKYBnP4rK"
      }
    },
    {
      "cell_type": "code",
      "source": [
        "import random\n",
        "\n",
        "def choose_strategy(table: list, hand: list):\n",
        "    card = []\n",
        "    current_card = []\n",
        "    major = []\n",
        "    minor = []\n",
        "\n",
        "    #if table:\n",
        "    current_card = table[-1]\n",
        "\n",
        "    max_hand_index = hand.index(max(hand))\n",
        "    major = hand[max_hand_index]\n",
        "    min_hand_index = hand.index(min(hand))\n",
        "    minor = hand[min_hand_index]\n",
        "\n",
        "    if major[0] > current_card[0]:\n",
        "        card = major\n",
        "        index = max_hand_index\n",
        "        hand.pop(index)\n",
        "        #print(hand)\n",
        "    else:\n",
        "        card = minor\n",
        "        index = min_hand_index\n",
        "        hand.pop(index)\n",
        "        #print(hand)\n",
        "\n",
        "    #else:\n",
        "     #   card = random.choice(hand)\n",
        "      #  index = hand.index(card)\n",
        "       # hand.pop(index)\n",
        "\n",
        "    return card, hand\n",
        "\n",
        "#hand = [[15, 'A♠'], [5, '5♥'], [11, 'A♥']]\n",
        "#table = [[13, '3♥']]\n",
        "#print(choose_strategy(table,hand))"
      ],
      "metadata": {
        "id": "RNJ-2DuMHxnG"
      },
      "execution_count": null,
      "outputs": []
    },
    {
      "cell_type": "code",
      "source": [
        "def increase_partner():\n",
        ""
      ],
      "metadata": {
        "id": "0aqTSJ15RucX"
      },
      "execution_count": null,
      "outputs": []
    },
    {
      "cell_type": "code",
      "source": [
        "def discard_or_cover():\n",
        ""
      ],
      "metadata": {
        "id": "7TigvtYbSGTg"
      },
      "execution_count": null,
      "outputs": []
    },
    {
      "cell_type": "code",
      "source": [
        "def ask_for_truco():"
      ],
      "metadata": {
        "id": "wO90u-5TSWis"
      },
      "execution_count": null,
      "outputs": []
    },
    {
      "cell_type": "markdown",
      "source": [
        "### Jogando uma partida"
      ],
      "metadata": {
        "id": "psSJ1MBVP9Y1"
      }
    },
    {
      "cell_type": "code",
      "source": [
        "def play_round():\n",
        "    \"\"\"Recebe o dicionário 'hands' com 4 mãos de 3 cartas cada, distribui entre duas equipes e inicia um melhor de 3 retornando o inteiro 'winner' que é o índice da equipe vencedora no 'global_score' da função main()\"\"\"\n",
        "    #1.entrega de cartas:\n",
        "    hands = dist_cards()\n",
        "    #equipe 1\n",
        "    player1a, player1b = hands[\"mão1\"], hands[\"mão3\"]\n",
        "    #equipe 2\n",
        "    player2a, player2b = hands[\"mão2\"], hands[\"mão4\"]\n",
        "\n",
        "    #2.jogando um melhor de 3:\n",
        "    scores = [0,0]\n",
        "    table = []\n",
        "    carta = []\n",
        "\n",
        "    while max(scores) < 2:\n",
        "        #2.1.colocando as cartas na mesa:\n",
        "\n",
        "        #player (player1a)\n",
        "        choice = int(input(f\"Cartas do jogador 1a: {player1a} \\n\"))\n",
        "        card = player1a.pop(choice)\n",
        "        table.append(card)\n",
        "        card = []\n",
        "        #print(f\"Mesa: {table}\")\n",
        "\n",
        "        #adversary (player2a)\n",
        "        print(f\"Cartas do adversário 2a: {player2a} \\n\")\n",
        "        card_hand = choose_strategy(table, player2a)\n",
        "        card = card_hand[0]\n",
        "        player2a = card_hand[1]\n",
        "        table.append(card)\n",
        "        card = []\n",
        "        #print(f\"Mesa: {table}\")\n",
        "\n",
        "        #partner (player1b)\n",
        "        print(f\"Cartas do parceiro 1b: {player1b} \\n\")\n",
        "        card_hand = choose_strategy(table, player1b)\n",
        "        card = card_hand[0]\n",
        "        player1b = card_hand[1]\n",
        "        table.append(card)\n",
        "        card = []\n",
        "        #print(f\"Mesa: {table}\")\n",
        "\n",
        "        #adversary (player2a)\n",
        "        print(f\"Cartas do adversário 2b: {player2b} \\n\")\n",
        "        card_hand = choose_strategy(table, player2b)\n",
        "        card = card_hand[0]\n",
        "        player2b = card_hand[1]\n",
        "        table.append(card)\n",
        "        card = []\n",
        "        #print(f\"Mesa: {table}\")\n",
        "\n",
        "        #2.2.comparando os poderes das cartas na mesa\n",
        "        print(f\"Mesa:  {table} \\n\\n\")\n",
        "        equipe1 = [int(table[0][0]), int(table[2][0])]\n",
        "        equipe2 = [int(table[1][0]), int(table[3][0])]\n",
        "        if max(equipe1) > max(equipe2): scores[0] += 1\n",
        "        elif max(equipe2) > max(equipe1): scores[1] += 1\n",
        "        else:\n",
        "            scores[0] += 1\n",
        "            scores[1] += 1\n",
        "\n",
        "        #3.show score and table cleaning\n",
        "        print(f\"Score: {scores}\")\n",
        "        table = []\n",
        "\n",
        "    winner = scores.index(max(scores))\n",
        "\n",
        "    return winner\n",
        "\n",
        "play_round()"
      ],
      "metadata": {
        "id": "OGcJ-5EibVnn"
      },
      "execution_count": null,
      "outputs": []
    },
    {
      "cell_type": "markdown",
      "source": [
        "### Função principal"
      ],
      "metadata": {
        "id": "FMsxcHDHQHW8"
      }
    },
    {
      "cell_type": "code",
      "execution_count": null,
      "metadata": {
        "id": "7ew7am33tk_n"
      },
      "outputs": [],
      "source": [
        "def main():\n",
        "    #1. placar e contador de rodadas\n",
        "    global_score = [0,0]\n",
        "    round = 1\n",
        "\n",
        "    #2. Jogar um jogo de 12 tentos\n",
        "    while max(global_score) < 2:\n",
        "        print(f\"RODADA {round} : SCORE GLOBAL {global_score}\")\n",
        "\n",
        "        winner = play_round()\n",
        "        global_score[winner] += 1\n",
        "        round += 1\n",
        "\n",
        "    return None\n",
        "\n",
        "main()"
      ]
    },
    {
      "cell_type": "code",
      "source": [
        "scores = [1,3,[2]]\n",
        "#print(max(scores))\n",
        "#print(scores.index(max(scores)))\n",
        "valor = scores.pop(2)\n",
        "print(valor, scores)"
      ],
      "metadata": {
        "id": "Gwvwj-uT9OIw"
      },
      "execution_count": null,
      "outputs": []
    }
  ]
}