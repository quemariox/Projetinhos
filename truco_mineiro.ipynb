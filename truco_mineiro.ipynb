{
  "nbformat": 4,
  "nbformat_minor": 0,
  "metadata": {
    "colab": {
      "private_outputs": true,
      "provenance": [],
      "authorship_tag": "ABX9TyOgIEM1Gux0cXtik1eG1+5Z",
      "include_colab_link": true
    },
    "kernelspec": {
      "name": "python3",
      "display_name": "Python 3"
    },
    "language_info": {
      "name": "python"
    }
  },
  "cells": [
    {
      "cell_type": "markdown",
      "metadata": {
        "id": "view-in-github",
        "colab_type": "text"
      },
      "source": [
        "<a href=\"https://colab.research.google.com/github/quemariox/Projetinhos/blob/main/truco_mineiro.ipynb\" target=\"_parent\"><img src=\"https://colab.research.google.com/assets/colab-badge.svg\" alt=\"Open In Colab\"/></a>"
      ]
    },
    {
      "cell_type": "code",
      "source": [
        "import random"
      ],
      "metadata": {
        "id": "Z8GaIipRzlZx"
      },
      "execution_count": null,
      "outputs": []
    },
    {
      "cell_type": "code",
      "source": [
        "def create_deck(shuffle = True):\n",
        "    pips_power = {'4':4,'5':5,'6':6,'7':7,'J':8,'Q':9,'K':10,'A':11,'2':12,'3':13}\n",
        "    emoji_suits = {'Hearts': \"\\u2665\", 'Diamonds': \"\\u2666\", 'Spades': \"\\u2660\", 'Clubs': \"\\u2663\"}\n",
        "    playing_cards = []\n",
        "\n",
        "    for suit in emoji_suits.values():\n",
        "        for pip in pips_power:\n",
        "            name = pip + suit\n",
        "            playing_cards.append([pips_power[pip], name])\n",
        "\n",
        "    for card in playing_cards:\n",
        "        if card[1] == '7♦': card[0] = 14\n",
        "        if card[1] == 'A♠': card[0] = 15\n",
        "        if card[1] == '7♥': card[0] = 16\n",
        "        if card[1] == '4♣': card[0] = 17\n",
        "\n",
        "    if shuffle == True: random.shuffle(playing_cards)\n",
        "    else: playing_cards.sort()\n",
        "\n",
        "    return playing_cards[::-1]\n",
        "\n",
        "#deck = create_deck()\n",
        "#print(deck,'\\n',len(deck),'\\n',type(deck))"
      ],
      "metadata": {
        "id": "xuOpep78u6gK"
      },
      "execution_count": null,
      "outputs": []
    },
    {
      "cell_type": "code",
      "source": [
        "def dist_cards(n_players = 2, deck = None):\n",
        "    hand = []\n",
        "    hands = {}\n",
        "    deck = create_deck()\n",
        "\n",
        "    for i in range(n_players):\n",
        "        hand = []\n",
        "        for j in range(3):\n",
        "            hand.append(deck.pop())\n",
        "        player_name = f'Player{i+1}'\n",
        "        hands[player_name] = hand\n",
        "\n",
        "    return hands\n",
        "\n",
        "#hands = dist_cards()\n",
        "#print(hands,'\\n',len(hands),'\\n',type(hands))"
      ],
      "metadata": {
        "id": "VLIDh0GS2-3r"
      },
      "execution_count": null,
      "outputs": []
    },
    {
      "cell_type": "code",
      "source": [
        "def play_round():\n",
        "    hands = dist_cards()\n",
        "    player1, player2 = hands[\"Player1\"], hands[\"Player2\"]\n",
        "    scores = [0,0]\n",
        "    table = []\n",
        "\n",
        "    while max(scores) < 2:\n",
        "        #player\n",
        "        choice = int(input(f\"Escolha uma carta: {player1} \\n\"))\n",
        "        table.append(player1.pop(choice))\n",
        "\n",
        "        #adversary\n",
        "        print(f\"Cartas do adversário: {player2} \\n\")\n",
        "        table.append(player2.pop(0))\n",
        "\n",
        "        #comparing the cards\n",
        "        print(f\"Mesa:  {table} \\n\\n\")\n",
        "\n",
        "        if table[0] > table[1]: scores[0] += 1\n",
        "        elif table[1] > table[0]: scores[1] += 1\n",
        "        else:\n",
        "            for i in range(len(scores)):\n",
        "                scores[i] += 1\n",
        "\n",
        "        #score and table cleaning\n",
        "        print(f\"Score: {scores}\")\n",
        "        table = []\n",
        "\n",
        "    winner = scores.index(max(scores))\n",
        "\n",
        "    return winner\n",
        "\n",
        "#winner = play_round()\n",
        "#print(winner,'\\n',len(winner),'\\n',type(winner))"
      ],
      "metadata": {
        "id": "hTOi-qMtlh-Z"
      },
      "execution_count": null,
      "outputs": []
    },
    {
      "cell_type": "code",
      "execution_count": null,
      "metadata": {
        "id": "7ew7am33tk_n"
      },
      "outputs": [],
      "source": [
        "def main():\n",
        "    global_score = [0,0]\n",
        "    rodada = 1\n",
        "\n",
        "    while max(global_score) < 2:\n",
        "        print(f\"RODADA {rodada} : Score Global {global_score}\")\n",
        "\n",
        "        winner = play_round()\n",
        "        global_score[winner] += 1\n",
        "\n",
        "        rodada += 1\n",
        "main()"
      ]
    },
    {
      "cell_type": "code",
      "source": [
        "scores = [1,3]\n",
        "print(max(scores))\n",
        "print(scores.index(max(scores)))"
      ],
      "metadata": {
        "id": "Gwvwj-uT9OIw"
      },
      "execution_count": null,
      "outputs": []
    }
  ]
}